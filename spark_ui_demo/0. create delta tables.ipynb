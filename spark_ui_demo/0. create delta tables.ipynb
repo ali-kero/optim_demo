{
 "cells": [
  {
   "cell_type": "code",
   "execution_count": 0,
   "metadata": {
    "application/vnd.databricks.v1+cell": {
     "cellMetadata": {
      "byteLimit": 2048000,
      "rowLimit": 10000
     },
     "inputWidgets": {},
     "nuid": "ec2958f1-fe14-46a2-9f36-7e843c797345",
     "showTitle": false,
     "tableResultSettingsMap": {},
     "title": ""
    }
   },
   "outputs": [],
   "source": [
    "# Create widgets for catalog and schema\n",
    "dbutils.widgets.text(\"catalog\", \"ali_karaouzene\", \"Catalog\")\n",
    "dbutils.widgets.text(\"schema\", \"sparkuisim\", \"Schema\")\n",
    "\n",
    "# Get widget values\n",
    "catalog_name = dbutils.widgets.get(\"catalog\")\n",
    "schema_name = dbutils.widgets.get(\"schema\")\n",
    "\n",
    "# Create catalog and schema if they do not exist\n",
    "spark.sql(f\"CREATE CATALOG IF NOT EXISTS {catalog_name}\")\n",
    "spark.sql(f\"CREATE SCHEMA IF NOT EXISTS {catalog_name}.{schema_name}\")"
   ]
  },
  {
   "cell_type": "code",
   "execution_count": 0,
   "metadata": {
    "application/vnd.databricks.v1+cell": {
     "cellMetadata": {
      "byteLimit": 2048000,
      "rowLimit": 10000
     },
     "inputWidgets": {},
     "nuid": "59f2b36a-88fe-45ec-aaa5-3eca6339d635",
     "showTitle": false,
     "tableResultSettingsMap": {},
     "title": ""
    }
   },
   "outputs": [],
   "source": [
    "# Read from WASBS and write to tables in the specified catalog and schema\n",
    "ctyPath = \"wasbs://spark-ui-simulator@dbacademy.blob.core.windows.net/global-sales/cities/all.delta\"\n",
    "trxPath = \"wasbs://spark-ui-simulator@dbacademy.blob.core.windows.net/global-sales/transactions/2011-to-2018-100gb.delta\"\n",
    "\n",
    "cities_df = spark.read.format(\"delta\").load(ctyPath)\n",
    "cities_df.write.mode(\"overwrite\").format(\"delta\").saveAsTable(f\"{catalog_name}.{schema_name}.all\")\n",
    "\n",
    "transactions_df = spark.read.format(\"delta\").load(trxPath)\n",
    "transactions_df.write.mode(\"overwrite\").format(\"delta\").saveAsTable(f\"{catalog_name}.{schema_name}.2011_to_2018_100gb\")"
   ]
  }
 ],
 "metadata": {
  "application/vnd.databricks.v1+notebook": {
   "computePreferences": null,
   "dashboards": [],
   "environmentMetadata": {
    "base_environment": "",
    "environment_version": "4"
   },
   "inputWidgetPreferences": null,
   "language": "python",
   "notebookMetadata": {
    "pythonIndentUnit": 2
   },
   "notebookName": "0. create delta tables",
   "widgets": {
    "catalog": {
     "currentValue": "ali_karaouzene",
     "nuid": "22d1ff23-ab77-4170-8914-e08fa56542d9",
     "typedWidgetInfo": {
      "autoCreated": false,
      "defaultValue": "ali_karaouzene",
      "label": "Catalog",
      "name": "catalog",
      "options": {
       "widgetDisplayType": "Text",
       "validationRegex": null
      },
      "parameterDataType": "String"
     },
     "widgetInfo": {
      "widgetType": "text",
      "defaultValue": "ali_karaouzene",
      "label": "Catalog",
      "name": "catalog",
      "options": {
       "widgetType": "text",
       "autoCreated": null,
       "validationRegex": null
      }
     }
    },
    "schema": {
     "currentValue": "sparkuisim",
     "nuid": "a61840ff-65bd-4715-916c-ed0c32f3e412",
     "typedWidgetInfo": {
      "autoCreated": false,
      "defaultValue": "sparkuisim",
      "label": "Schema",
      "name": "schema",
      "options": {
       "widgetDisplayType": "Text",
       "validationRegex": null
      },
      "parameterDataType": "String"
     },
     "widgetInfo": {
      "widgetType": "text",
      "defaultValue": "sparkuisim",
      "label": "Schema",
      "name": "schema",
      "options": {
       "widgetType": "text",
       "autoCreated": null,
       "validationRegex": null
      }
     }
    }
   }
  },
  "language_info": {
   "name": "python"
  }
 },
 "nbformat": 4,
 "nbformat_minor": 0
}
